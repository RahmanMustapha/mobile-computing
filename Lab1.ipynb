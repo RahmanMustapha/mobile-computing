{
 "cells": [
  {
   "cell_type": "code",
   "execution_count": 7,
   "id": "coordinated-cambridge",
   "metadata": {},
   "outputs": [
    {
     "ename": "FileNotFoundError",
     "evalue": "[Errno 2] No such file or directory: 'C:\\\\Users/rahmanmustapha/Desktop/MobileComputing/Lab1/train/WAL/WAL_acc_1o_1.txt'",
     "output_type": "error",
     "traceback": [
      "\u001b[0;31m---------------------------------------------------------------------------\u001b[0m",
      "\u001b[0;31mFileNotFoundError\u001b[0m                         Traceback (most recent call last)",
      "\u001b[0;32m<ipython-input-7-a9d5b7315302>\u001b[0m in \u001b[0;36m<module>\u001b[0;34m\u001b[0m\n\u001b[0;32m----> 1\u001b[0;31m \u001b[0;32mwith\u001b[0m \u001b[0mopen\u001b[0m\u001b[0;34m(\u001b[0m\u001b[0;34m'C:\\\\Users/rahmanmustapha/Desktop/MobileComputing/Lab1/train/WAL/WAL_acc_1o_1.txt'\u001b[0m\u001b[0;34m,\u001b[0m \u001b[0;34m\"r+\"\u001b[0m\u001b[0;34m)\u001b[0m \u001b[0;32mas\u001b[0m \u001b[0mparsed\u001b[0m\u001b[0;34m:\u001b[0m\u001b[0;34m\u001b[0m\u001b[0;34m\u001b[0m\u001b[0m\n\u001b[0m\u001b[1;32m      2\u001b[0m     \u001b[0mlines\u001b[0m \u001b[0;34m=\u001b[0m \u001b[0mparsed\u001b[0m\u001b[0;34m.\u001b[0m\u001b[0mreadlines\u001b[0m\u001b[0;34m(\u001b[0m\u001b[0;34m)\u001b[0m\u001b[0;34m\u001b[0m\u001b[0;34m\u001b[0m\u001b[0m\n\u001b[1;32m      3\u001b[0m \u001b[0;34m\u001b[0m\u001b[0m\n\u001b[1;32m      4\u001b[0m \u001b[0mnumline\u001b[0m \u001b[0;34m=\u001b[0m \u001b[0;36m1\u001b[0m\u001b[0;34m\u001b[0m\u001b[0;34m\u001b[0m\u001b[0m\n\u001b[1;32m      5\u001b[0m \u001b[0;34m\u001b[0m\u001b[0m\n",
      "\u001b[0;31mFileNotFoundError\u001b[0m: [Errno 2] No such file or directory: 'C:\\\\Users/rahmanmustapha/Desktop/MobileComputing/Lab1/train/WAL/WAL_acc_1o_1.txt'"
     ]
    }
   ],
   "source": [
    "with open('C:\\\\Users/rahmanmustapha/Desktop/MobileComputing/Lab1/train/WAL/WAL_acc_1o_1.txt', \"r+\") as parsed:\n",
    "    lines = parsed.readlines()\n",
    "    \n",
    "numline = 1\n",
    "       \n",
    "for line in lines:\n",
    "    if line == '\\n': \n",
    "        numline += 1\n",
    "    \n",
    "print(\"Number of lines in file is: \", numline) \n",
    "        \n",
    "        \n"
   ]
  },
  {
   "cell_type": "code",
   "execution_count": 6,
   "id": "worst-transaction",
   "metadata": {},
   "outputs": [
    {
     "ename": "NameError",
     "evalue": "name 'os' is not defined",
     "output_type": "error",
     "traceback": [
      "\u001b[0;31m---------------------------------------------------------------------------\u001b[0m",
      "\u001b[0;31mNameError\u001b[0m                                 Traceback (most recent call last)",
      "\u001b[0;32m<ipython-input-6-67fdccf289bf>\u001b[0m in \u001b[0;36m<module>\u001b[0;34m\u001b[0m\n\u001b[0;32m----> 1\u001b[0;31m \u001b[0mos\u001b[0m\u001b[0;34m.\u001b[0m\u001b[0mlistdir\u001b[0m\u001b[0;34m(\u001b[0m\u001b[0;34m)\u001b[0m\u001b[0;34m\u001b[0m\u001b[0;34m\u001b[0m\u001b[0m\n\u001b[0m",
      "\u001b[0;31mNameError\u001b[0m: name 'os' is not defined"
     ]
    }
   ],
   "source": [
    "os.listdir()"
   ]
  },
  {
   "cell_type": "code",
   "execution_count": 19,
   "id": "rational-winner",
   "metadata": {},
   "outputs": [],
   "source": [
    "from sklearn.cluster importSpectralClustering"
   ]
  },
  {
   "cell_type": "code",
   "execution_count": null,
   "id": "amino-baseline",
   "metadata": {},
   "outputs": [],
   "source": [
    "# create empty list \n",
    "arr = [] \n",
    "  \n",
    "# count number of \n",
    "# lines in the file \n",
    "line = 1\n",
    "for word in read: \n",
    "    if word == '\\n': \n",
    "        line += 1\n",
    "print(\"Number of lines in file is: \", line) \n",
    "  \n",
    "for i in range(line): \n",
    "    # readline() method, \n",
    "    # reads one line at \n",
    "    # a time \n",
    "    arr.append(df.readline()) \n",
    "\n",
    " myList = myList[5:]\n"
   ]
  }
 ],
 "metadata": {
  "kernelspec": {
   "display_name": "Python 3",
   "language": "python",
   "name": "python3"
  },
  "language_info": {
   "codemirror_mode": {
    "name": "ipython",
    "version": 3
   },
   "file_extension": ".py",
   "mimetype": "text/x-python",
   "name": "python",
   "nbconvert_exporter": "python",
   "pygments_lexer": "ipython3",
   "version": "3.7.7"
  }
 },
 "nbformat": 4,
 "nbformat_minor": 5
}
